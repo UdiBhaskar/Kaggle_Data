{
  "cells": [
    {
      "metadata": {
        "_cell_guid": "d90ab3a8-9fa7-4232-ac26-66dfdf0632c9",
        "_uuid": "1ecd7a4c10ff622315fa0e0a80944c399254d452",
        "trusted": true
      },
      "cell_type": "code",
      "source": "# This Python 3 environment comes with many helpful analytics libraries installed\n# It is defined by the kaggle/python docker image: https://github.com/kaggle/docker-python\n# For example, here's several helpful packages to load in \n\nimport numpy as np # linear algebra\nimport pandas as pd # data processing, CSV file I/O (e.g. pd.read_csv)\n\n# Input data files are available in the \"../input/\" directory.\n# For example, running this (by clicking run or pressing Shift+Enter) will list the files in the input directory\n\nfrom subprocess import check_output\nprint(check_output([\"ls\", \"../input\"]).decode(\"utf8\"))\n\n# Any results you write to the current directory are saved as output.",
      "execution_count": 12,
      "outputs": [
        {
          "output_type": "stream",
          "text": "genderclassmodel.csv\ngendermodel.csv\ngendermodel.py\nmyfirstforest.py\ntest.csv\ntrain.csv\n\n",
          "name": "stdout"
        }
      ]
    },
    {
      "metadata": {
        "_cell_guid": "33c004b4-f81f-47c9-b3f5-c344d7d9268f",
        "_uuid": "5ee6ae4d13c153f3e512cd68eb4ef6165bef07d6",
        "trusted": true,
        "collapsed": true
      },
      "cell_type": "code",
      "source": "train = pd.read_csv('../input/train.csv')\ntrain.set_index('PassengerId',inplace = True)\ntest = pd.read_csv('../input/test.csv')\ntest_id = list(test['PassengerId'])\ntest.set_index('PassengerId',inplace = True)",
      "execution_count": 13,
      "outputs": []
    },
    {
      "metadata": {
        "_cell_guid": "054655d6-3282-4944-8a32-dd8cde1e26ef",
        "_uuid": "0ac0703fe55efac6f0a9da44b6a9c0c08183e801",
        "trusted": true
      },
      "cell_type": "code",
      "source": "train.info()",
      "execution_count": 32,
      "outputs": [
        {
          "output_type": "stream",
          "text": "<class 'pandas.core.frame.DataFrame'>\nInt64Index: 891 entries, 1 to 891\nData columns (total 12 columns):\nSurvived    891 non-null int64\nPclass      891 non-null int64\nName        891 non-null object\nSex         891 non-null object\nAge         714 non-null float64\nSibSp       891 non-null int64\nParch       891 non-null int64\nTicket      891 non-null object\nFare        891 non-null float64\nCabin       204 non-null object\nEmbarked    889 non-null object\nDeck        891 non-null object\ndtypes: float64(2), int64(4), object(6)\nmemory usage: 130.5+ KB\n",
          "name": "stdout"
        }
      ]
    },
    {
      "metadata": {
        "_cell_guid": "648c2a03-24b5-4959-afab-9f2903efbd3a",
        "_uuid": "91154a4719fb2146a2084efefc26947bfa9c31f5",
        "trusted": true
      },
      "cell_type": "code",
      "source": "train.Parch.value_counts()",
      "execution_count": 15,
      "outputs": [
        {
          "output_type": "execute_result",
          "execution_count": 15,
          "data": {
            "text/plain": "0    678\n1    118\n2     80\n5      5\n3      5\n4      4\n6      1\nName: Parch, dtype: int64"
          },
          "metadata": {}
        }
      ]
    },
    {
      "metadata": {
        "_cell_guid": "8e6147bd-d4cb-4263-b275-7737891723c0",
        "collapsed": true,
        "_uuid": "f59b7b1bfa1f95610c51fd6f7585e289e7364e96",
        "trusted": true
      },
      "cell_type": "code",
      "source": "import seaborn as sns\nimport matplotlib.pyplot as plt",
      "execution_count": 16,
      "outputs": []
    },
    {
      "metadata": {
        "_cell_guid": "96bc8a58-e554-4ad3-a5f3-d65580feeab2",
        "_uuid": "f6cd1d9d256388fb3efe30c73966473781fa461b",
        "trusted": true,
        "collapsed": true
      },
      "cell_type": "code",
      "source": "train['Deck'] = train['Cabin'].apply(lambda x: str(x)[0] if x != 'NaN' else 'N')",
      "execution_count": 17,
      "outputs": []
    },
    {
      "metadata": {
        "_cell_guid": "9b8880c4-0563-4ea5-b773-be237ac569d3",
        "_uuid": "bbe189e08480eeb8c9d6a14b402eaae9868a4de5",
        "trusted": true
      },
      "cell_type": "code",
      "source": "import matplotlib\nmatplotlib.style.use('ggplot')\nplt.figure()\nsns.countplot(x=\"Deck\", data=train,hue ='Survived')",
      "execution_count": 18,
      "outputs": [
        {
          "output_type": "execute_result",
          "execution_count": 18,
          "data": {
            "text/plain": "<matplotlib.axes._subplots.AxesSubplot at 0x7efcfd86a630>"
          },
          "metadata": {}
        },
        {
          "output_type": "display_data",
          "data": {
            "text/plain": "<matplotlib.figure.Figure at 0x7efcfd8aad68>",
            "image/png": "[encoded data removed]"
          },
          "metadata": {}
        }
      ]
    },
    {
      "metadata": {
        "_cell_guid": "e9455266-9eab-45c1-88ee-ec4e98aed4f5",
        "_uuid": "6f61c4f1b9778b76b45a44c498a28d4c2611e39f",
        "trusted": true
      },
      "cell_type": "code",
      "source": "g = sns.FacetGrid(train, col=\"Survived\")\ng.map(plt.hist,'Fare')",
      "execution_count": 19,
      "outputs": [
        {
          "output_type": "execute_result",
          "execution_count": 19,
          "data": {
            "text/plain": "<seaborn.axisgrid.FacetGrid at 0x7efcfd7c3668>"
          },
          "metadata": {}
        },
        {
          "output_type": "display_data",
          "data": {
            "text/plain": "<matplotlib.figure.Figure at 0x7efcfda85358>",
            "image/png": "[encoded data removed]"
          },
          "metadata": {}
        }
      ]
    },
    {
      "metadata": {
        "_cell_guid": "c4f49ba7-38a7-4997-b263-3e7f5852cbdb",
        "_uuid": "c0a7b1fde2aeb6050eb9766504748949932677b5",
        "trusted": true
      },
      "cell_type": "code",
      "source": "sns.countplot(x = 'Pclass',data = train,hue = 'Survived')",
      "execution_count": 27,
      "outputs": [
        {
          "output_type": "execute_result",
          "execution_count": 27,
          "data": {
            "text/plain": "<matplotlib.axes._subplots.AxesSubplot at 0x7efcfd479940>"
          },
          "metadata": {}
        },
        {
          "output_type": "display_data",
          "data": {
            "text/plain": "<matplotlib.figure.Figure at 0x7efcfd407ef0>",
            "image/png": "[encoded data removed]"
          },
          "metadata": {}
        }
      ]
    },
    {
      "metadata": {
        "trusted": true,
        "_uuid": "c049913bc721a7db97258d7c955e824a8ed0afe4"
      },
      "cell_type": "code",
      "source": "sns.countplot(x = 'Survived',data = train,hue = 'Sex')",
      "execution_count": 28,
      "outputs": [
        {
          "output_type": "execute_result",
          "execution_count": 28,
          "data": {
            "text/plain": "<matplotlib.axes._subplots.AxesSubplot at 0x7efcfd236748>"
          },
          "metadata": {}
        },
        {
          "output_type": "display_data",
          "data": {
            "text/plain": "<matplotlib.figure.Figure at 0x7efcfd4ed438>",
            "image/png": "[encoded data removed]"
          },
          "metadata": {}
        }
      ]
    },
    {
      "metadata": {
        "trusted": true,
        "_uuid": "74727770950c0245cb72ad14ca198e11c023b12f"
      },
      "cell_type": "code",
      "source": "male_servived = sum((train['Survived'] == 1) & (train['Sex'] == 'male' )) / train.Sex.value_counts()[0]\nfemale_servived = sum((train['Survived'] == 1) & (train['Sex'] == 'female' )) / train.Sex.value_counts()[1]\nmale_servived,female_servived",
      "execution_count": 50,
      "outputs": [
        {
          "output_type": "execute_result",
          "execution_count": 50,
          "data": {
            "text/plain": "(0.18890814558058924, 0.7420382165605095)"
          },
          "metadata": {}
        }
      ]
    },
    {
      "metadata": {
        "trusted": true,
        "_uuid": "78c58232e9543bbf74e73b7716c1e90222313bd0"
      },
      "cell_type": "code",
      "source": "sns.factorplot(x=\"Pclass\", hue=\"Sex\", col=\"Survived\",data=train, kind=\"count\",size=4, aspect=.7)",
      "execution_count": 48,
      "outputs": [
        {
          "output_type": "execute_result",
          "execution_count": 48,
          "data": {
            "text/plain": "<seaborn.axisgrid.FacetGrid at 0x7efd12da6390>"
          },
          "metadata": {}
        },
        {
          "output_type": "display_data",
          "data": {
            "text/plain": "<matplotlib.figure.Figure at 0x7efcfd196898>",
            "image/png": "[encoded data removed]"
          },
          "metadata": {}
        }
      ]
    },
    {
      "metadata": {
        "trusted": true,
        "_uuid": "a4f1274c5d524f60a4cbc9fd19585d5ee6b4d3bd"
      },
      "cell_type": "code",
      "source": "features = ['Pclass','Sex_new','Age','Fare'] \ntrain.dropna(subset=['Age'],inplace = True)\ntest.dropna(subset=['Age','Fare'],inplace = True)\nfrom sklearn import svm\ntrain['Sex_new'] = train['Sex'].apply(lambda x: 0 if x == 'female' else 1)\ntest['Sex_new'] = test['Sex'].apply(lambda x: 0 if x == 'female' else 1)\nX_train = train[features]\ny_train = train['Survived']\nX_test = test[features]\n#y_test = test['Survived']\nclf = svm.SVC().fit(X_train,y_train)\n#train.Sex_new.value_counts()\n",
      "execution_count": 104,
      "outputs": []
    },
    {
      "metadata": {
        "trusted": true,
        "_uuid": "58b5349c5db5b66a3f4bd79bcbac4a9927de9832"
      },
      "cell_type": "code",
      "source": "clf.score(X_train,y_train)",
      "execution_count": 105,
      "outputs": [
        {
          "output_type": "execute_result",
          "execution_count": 105,
          "data": {
            "text/plain": "0.92577030812324934"
          },
          "metadata": {}
        }
      ]
    },
    {
      "metadata": {
        "trusted": true,
        "_uuid": "e1f8aba10f0399eb25cd62929772945a62cbf648"
      },
      "cell_type": "code",
      "source": "from sklearn.linear_model import SGDClassifier\nfrom sklearn.linear_model import PassiveAggressiveClassifier\nfrom sklearn.linear_model import LogisticRegression\nfrom sklearn.linear_model import LogisticRegression\nfrom sklearn.ensemble     import RandomForestClassifier\nfrom sklearn.ensemble     import RandomForestRegressor\nclassifiers = {\n    \"SGD\": SGDClassifier(alpha=100),\n    \"ASGD\": SGDClassifier(average=True),\n    \"Passive-Aggressive I\": PassiveAggressiveClassifier(loss='hinge', C=1.0),\n    \"SAG\": LogisticRegression(solver='liblinear',C=1.e4 / train[features].shape[0]),\n    \"RF_C\": RandomForestClassifier(max_depth=20,n_estimators=13),\n    \"RF_R\": RandomForestRegressor(n_estimators=15,max_depth=22)\n}",
      "execution_count": 149,
      "outputs": []
    },
    {
      "metadata": {
        "trusted": true,
        "_uuid": "c0c91a88eb55ac03a41ff791403e88ad6d470ba1"
      },
      "cell_type": "code",
      "source": "for classifier_type in classifiers.keys():  \n    # Train classifier\n    clf2 = classifiers[classifier_type]\n    clf2.fit(X_train, y_train)\n    print(classifier_type, ':', clf2.score(X_train,y_train))",
      "execution_count": 150,
      "outputs": [
        {
          "output_type": "stream",
          "text": "SGD : 0.647058823529\nASGD : 0.687675070028\nPassive-Aggressive I : 0.40756302521\nSAG : 0.792717086835\nRF_C : 0.977591036415\nRF_R : 0.87269646124\n",
          "name": "stdout"
        },
        {
          "output_type": "stream",
          "text": "/opt/conda/lib/python3.6/site-packages/sklearn/linear_model/stochastic_gradient.py:128: FutureWarning: max_iter and tol parameters have been added in <class 'sklearn.linear_model.stochastic_gradient.SGDClassifier'> in 0.19. If both are left unset, they default to max_iter=5 and tol=None. If tol is not None, max_iter defaults to max_iter=1000. From 0.21, default max_iter will be 1000, and default tol will be 1e-3.\n  \"and default tol will be 1e-3.\" % type(self), FutureWarning)\n/opt/conda/lib/python3.6/site-packages/sklearn/linear_model/stochastic_gradient.py:128: FutureWarning: max_iter and tol parameters have been added in <class 'sklearn.linear_model.stochastic_gradient.SGDClassifier'> in 0.19. If both are left unset, they default to max_iter=5 and tol=None. If tol is not None, max_iter defaults to max_iter=1000. From 0.21, default max_iter will be 1000, and default tol will be 1e-3.\n  \"and default tol will be 1e-3.\" % type(self), FutureWarning)\n/opt/conda/lib/python3.6/site-packages/sklearn/linear_model/stochastic_gradient.py:128: FutureWarning: max_iter and tol parameters have been added in <class 'sklearn.linear_model.passive_aggressive.PassiveAggressiveClassifier'> in 0.19. If both are left unset, they default to max_iter=5 and tol=None. If tol is not None, max_iter defaults to max_iter=1000. From 0.21, default max_iter will be 1000, and default tol will be 1e-3.\n  \"and default tol will be 1e-3.\" % type(self), FutureWarning)\n",
          "name": "stderr"
        }
      ]
    },
    {
      "metadata": {
        "trusted": true,
        "collapsed": true,
        "_uuid": "7b3da5114d63735cd292675a9d6832caa4956b53"
      },
      "cell_type": "code",
      "source": "",
      "execution_count": null,
      "outputs": []
    }
  ],
  "metadata": {
    "kernelspec": {
      "display_name": "Python 3",
      "language": "python",
      "name": "python3"
    },
    "language_info": {
      "name": "python",
      "version": "3.6.1",
      "mimetype": "text/x-python",
      "codemirror_mode": {
        "name": "ipython",
        "version": 3
      },
      "pygments_lexer": "ipython3",
      "nbconvert_exporter": "python",
      "file_extension": ".py"
    }
  },
  "nbformat": 4,
  "nbformat_minor": 1
}